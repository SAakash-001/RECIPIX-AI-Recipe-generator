{
 "cells": [
  {
   "cell_type": "markdown",
   "id": "d29c6406",
   "metadata": {},
   "source": [
    "# Augmnetation of Dataset"
   ]
  },
  {
   "cell_type": "code",
   "execution_count": 1,
   "id": "afa273dc",
   "metadata": {},
   "outputs": [],
   "source": [
    "# Importing Libraries\n",
    "\n",
    "import cv2\n",
    "import os\n",
    "import numpy as np\n",
    "import random\n",
    "from tqdm import tqdm\n",
    "from skimage import transform as tf\n",
    "import shutil"
   ]
  },
  {
   "cell_type": "code",
   "execution_count": 2,
   "id": "e3ae020f",
   "metadata": {},
   "outputs": [],
   "source": [
    "# Define the input and output directories\n",
    "input_dir = 'C:/Users/Lenovo/Videos/Project/RECIPE GENERATOR/Jupyter/main_dataset'  # Directory containing original images\n",
    "output_dir = 'C:/Users/Lenovo/Videos/Project/RECIPE GENERATOR/Jupyter/refined_dataset'  # Directory where refined images will be saved"
   ]
  },
  {
   "cell_type": "code",
   "execution_count": 3,
   "id": "f2475951",
   "metadata": {},
   "outputs": [],
   "source": [
    "# Create the output directory if it doesn't exist\n",
    "os.makedirs(output_dir, exist_ok=True)\n",
    "\n",
    "# Define the list of categories or classes\n",
    "categories = os.listdir(input_dir)"
   ]
  },
  {
   "cell_type": "code",
   "execution_count": 4,
   "id": "3d54a084",
   "metadata": {},
   "outputs": [],
   "source": [
    "# Function to perform data augmentation and save refined images with unique names\n",
    "def augment_and_save_image(image_path, category, output_dir, count):\n",
    "    # Attempt to load the image\n",
    "    image = cv2.imread(image_path)\n",
    "    \n",
    "    # Check if the image was loaded successfully\n",
    "    if image is not None:\n",
    "        # Resize the image\n",
    "        resized_image = cv2.resize(image, (256, 256))  # Adjust the size as needed\n",
    "        \n",
    "        # Flip the image horizontally with a 50% probability\n",
    "        if random.random() < 0.5:\n",
    "            resized_image = np.fliplr(resized_image)\n",
    "        \n",
    "        # Flip the image vertically with a 50% probability\n",
    "        if random.random() < 0.5:\n",
    "            resized_image = np.flipud(resized_image)\n",
    "        \n",
    "        # Apply shear transformation\n",
    "        shear_factor = random.uniform(-0.1, 0.1)\n",
    "        shear_tf = tf.AffineTransform(shear=shear_factor)\n",
    "        resized_image = tf.warp(resized_image, shear_tf, preserve_range=True).astype(np.uint8)\n",
    "        \n",
    "        # Rotate the image by 90, 180, or 270 degrees with a 25% probability each\n",
    "        rotate_angle = random.choice([90, 180, 270])\n",
    "        if rotate_angle > 0:\n",
    "            rows, cols, _ = resized_image.shape\n",
    "            M = cv2.getRotationMatrix2D((cols / 2, rows / 2), rotate_angle, 1)\n",
    "            resized_image = cv2.warpAffine(resized_image, M, (cols, rows))\n",
    "        \n",
    "        # Save the refined image with a unique name\n",
    "        filename = f\"{category}{count}.jpg\"\n",
    "        output_path = os.path.join(output_dir, filename)\n",
    "        os.makedirs(os.path.dirname(output_path), exist_ok=True)\n",
    "        cv2.imwrite(output_path, resized_image)\n",
    "    \n",
    "    else:\n",
    "        print(f\"Error loading image: {image_path}\")"
   ]
  },
  {
   "cell_type": "code",
   "execution_count": 5,
   "id": "9f208d01",
   "metadata": {},
   "outputs": [
    {
     "name": "stderr",
     "output_type": "stream",
     "text": [
      "BEAN:   0%|          | 0/500 [00:00<?, ?it/s]"
     ]
    },
    {
     "name": "stdout",
     "output_type": "stream",
     "text": [
      "Error loading image: C:/Users/Lenovo/Videos/Project/RECIPE GENERATOR/Jupyter/main_dataset\\BEAN\\.DS_Store\n"
     ]
    },
    {
     "name": "stderr",
     "output_type": "stream",
     "text": [
      "BEAN:  98%|█████████▊| 491/500 [00:11<00:00, 44.57it/s]\n",
      "BEAN: 100%|██████████| 9/9 [00:00<00:00, 62.19it/s]\n"
     ]
    },
    {
     "name": "stdout",
     "output_type": "stream",
     "text": [
      "Error loading image: C:/Users/Lenovo/Videos/Project/RECIPE GENERATOR/Jupyter/main_dataset\\BEAN\\.DS_Store\n"
     ]
    },
    {
     "name": "stderr",
     "output_type": "stream",
     "text": [
      "BEETROOT:  18%|█▊        | 88/500 [00:05<00:26, 15.35it/s]\n",
      "BEETROOT:  21%|██▏       | 88/412 [00:05<00:21, 15.00it/s]\n",
      "BEETROOT:  27%|██▋       | 88/324 [00:05<00:14, 16.43it/s]\n",
      "BEETROOT:  37%|███▋      | 88/236 [00:04<00:08, 18.26it/s]\n",
      "BEETROOT:  59%|█████▉    | 88/148 [00:05<00:03, 17.45it/s]\n",
      "BEETROOT: 100%|██████████| 60/60 [00:03<00:00, 17.04it/s]\n",
      "BITTER GOURD:   1%|▏         | 7/500 [00:00<00:08, 60.89it/s]"
     ]
    },
    {
     "name": "stdout",
     "output_type": "stream",
     "text": [
      "Error loading image: C:/Users/Lenovo/Videos/Project/RECIPE GENERATOR/Jupyter/main_dataset\\BITTER GOURD\\.DS_Store\n"
     ]
    },
    {
     "name": "stderr",
     "output_type": "stream",
     "text": [
      "BITTER GOURD:  91%|█████████ | 454/500 [00:09<00:00, 47.54it/s]\n",
      "BITTER GOURD:  15%|█▌        | 7/46 [00:00<00:00, 65.55it/s]"
     ]
    },
    {
     "name": "stdout",
     "output_type": "stream",
     "text": [
      "Error loading image: C:/Users/Lenovo/Videos/Project/RECIPE GENERATOR/Jupyter/main_dataset\\BITTER GOURD\\.DS_Store\n"
     ]
    },
    {
     "name": "stderr",
     "output_type": "stream",
     "text": [
      "BITTER GOURD: 100%|██████████| 46/46 [00:00<00:00, 54.51it/s]\n",
      "BOTTLE GOURD:   1%|          | 6/500 [00:00<00:09, 52.39it/s]"
     ]
    },
    {
     "name": "stdout",
     "output_type": "stream",
     "text": [
      "Error loading image: C:/Users/Lenovo/Videos/Project/RECIPE GENERATOR/Jupyter/main_dataset\\BOTTLE GOURD\\.DS_Store\n"
     ]
    },
    {
     "name": "stderr",
     "output_type": "stream",
     "text": [
      "BOTTLE GOURD:  99%|█████████▉| 494/500 [00:10<00:00, 47.56it/s]\n",
      "BOTTLE GOURD: 100%|██████████| 6/6 [00:00<00:00, 63.27it/s]\n"
     ]
    },
    {
     "name": "stdout",
     "output_type": "stream",
     "text": [
      "Error loading image: C:/Users/Lenovo/Videos/Project/RECIPE GENERATOR/Jupyter/main_dataset\\BOTTLE GOURD\\.DS_Store\n"
     ]
    },
    {
     "name": "stderr",
     "output_type": "stream",
     "text": [
      "CABBAGE:   0%|          | 0/500 [00:00<?, ?it/s]"
     ]
    },
    {
     "name": "stdout",
     "output_type": "stream",
     "text": [
      "Error loading image: C:/Users/Lenovo/Videos/Project/RECIPE GENERATOR/Jupyter/main_dataset\\CABBAGE\\.DS_Store\n"
     ]
    },
    {
     "name": "stderr",
     "output_type": "stream",
     "text": [
      "CABBAGE:  16%|█▋        | 82/500 [00:05<00:28, 14.66it/s]\n",
      "CABBAGE:   1%|          | 4/418 [00:00<00:14, 29.46it/s]"
     ]
    },
    {
     "name": "stdout",
     "output_type": "stream",
     "text": [
      "Error loading image: C:/Users/Lenovo/Videos/Project/RECIPE GENERATOR/Jupyter/main_dataset\\CABBAGE\\.DS_Store\n"
     ]
    },
    {
     "name": "stderr",
     "output_type": "stream",
     "text": [
      "CABBAGE:  20%|█▉        | 82/418 [00:05<00:21, 15.98it/s]\n",
      "CABBAGE:   1%|          | 4/336 [00:00<00:10, 31.07it/s]"
     ]
    },
    {
     "name": "stdout",
     "output_type": "stream",
     "text": [
      "Error loading image: C:/Users/Lenovo/Videos/Project/RECIPE GENERATOR/Jupyter/main_dataset\\CABBAGE\\.DS_Store\n"
     ]
    },
    {
     "name": "stderr",
     "output_type": "stream",
     "text": [
      "CABBAGE:  24%|██▍       | 82/336 [00:05<00:16, 15.84it/s]\n",
      "CABBAGE:   2%|▏         | 4/254 [00:00<00:07, 31.69it/s]"
     ]
    },
    {
     "name": "stdout",
     "output_type": "stream",
     "text": [
      "Error loading image: C:/Users/Lenovo/Videos/Project/RECIPE GENERATOR/Jupyter/main_dataset\\CABBAGE\\.DS_Store\n"
     ]
    },
    {
     "name": "stderr",
     "output_type": "stream",
     "text": [
      "CABBAGE:  32%|███▏      | 82/254 [00:05<00:10, 16.36it/s]\n",
      "CABBAGE:   2%|▏         | 4/172 [00:00<00:05, 31.31it/s]"
     ]
    },
    {
     "name": "stdout",
     "output_type": "stream",
     "text": [
      "Error loading image: C:/Users/Lenovo/Videos/Project/RECIPE GENERATOR/Jupyter/main_dataset\\CABBAGE\\.DS_Store\n"
     ]
    },
    {
     "name": "stderr",
     "output_type": "stream",
     "text": [
      "CABBAGE:  48%|████▊     | 82/172 [00:04<00:05, 16.46it/s]\n",
      "CABBAGE:   4%|▍         | 4/90 [00:00<00:02, 32.91it/s]"
     ]
    },
    {
     "name": "stdout",
     "output_type": "stream",
     "text": [
      "Error loading image: C:/Users/Lenovo/Videos/Project/RECIPE GENERATOR/Jupyter/main_dataset\\CABBAGE\\.DS_Store\n"
     ]
    },
    {
     "name": "stderr",
     "output_type": "stream",
     "text": [
      "CABBAGE:  91%|█████████ | 82/90 [00:05<00:00, 16.09it/s]\n",
      "CABBAGE:  50%|█████     | 4/8 [00:00<00:00, 32.06it/s]"
     ]
    },
    {
     "name": "stdout",
     "output_type": "stream",
     "text": [
      "Error loading image: C:/Users/Lenovo/Videos/Project/RECIPE GENERATOR/Jupyter/main_dataset\\CABBAGE\\.DS_Store\n"
     ]
    },
    {
     "name": "stderr",
     "output_type": "stream",
     "text": [
      "CABBAGE: 100%|██████████| 8/8 [00:00<00:00, 24.62it/s]\n",
      "CAPSICUM:  18%|█▊        | 89/500 [00:04<00:22, 18.25it/s]\n",
      "CAPSICUM:  22%|██▏       | 89/411 [00:04<00:17, 18.75it/s]\n",
      "CAPSICUM:  28%|██▊       | 89/322 [00:04<00:12, 18.89it/s]\n",
      "CAPSICUM:  38%|███▊      | 89/233 [00:04<00:07, 19.43it/s]\n",
      "CAPSICUM:  62%|██████▏   | 89/144 [00:04<00:02, 18.89it/s]\n",
      "CAPSICUM: 100%|██████████| 55/55 [00:03<00:00, 17.39it/s]\n",
      "CARROT:   1%|          | 4/500 [00:00<00:24, 20.32it/s]"
     ]
    },
    {
     "name": "stdout",
     "output_type": "stream",
     "text": [
      "Error loading image: C:/Users/Lenovo/Videos/Project/RECIPE GENERATOR/Jupyter/main_dataset\\CARROT\\.DS_Store\n"
     ]
    },
    {
     "name": "stderr",
     "output_type": "stream",
     "text": [
      "CARROT:  67%|██████▋   | 337/500 [00:20<00:09, 16.42it/s]\n",
      "CARROT:   0%|          | 0/163 [00:00<?, ?it/s]"
     ]
    },
    {
     "name": "stdout",
     "output_type": "stream",
     "text": [
      "Error loading image: C:/Users/Lenovo/Videos/Project/RECIPE GENERATOR/Jupyter/main_dataset\\CARROT\\.DS_Store\n"
     ]
    },
    {
     "name": "stderr",
     "output_type": "stream",
     "text": [
      "CARROT: 100%|██████████| 163/163 [00:07<00:00, 21.41it/s]\n",
      "CAULIFLOWER:  58%|█████▊    | 290/500 [00:11<00:08, 25.93it/s]\n",
      "CAULIFLOWER: 100%|██████████| 210/210 [00:08<00:00, 24.67it/s]\n",
      "CHILLI:   1%|          | 5/500 [00:00<00:10, 45.16it/s]"
     ]
    },
    {
     "name": "stdout",
     "output_type": "stream",
     "text": [
      "Error loading image: C:/Users/Lenovo/Videos/Project/RECIPE GENERATOR/Jupyter/main_dataset\\CHILLI\\.DS_Store\n"
     ]
    },
    {
     "name": "stderr",
     "output_type": "stream",
     "text": [
      "CHILLI:  26%|██▌       | 131/500 [00:03<00:09, 38.24it/s]\n",
      "CHILLI:   1%|▏         | 5/369 [00:00<00:08, 45.14it/s]"
     ]
    },
    {
     "name": "stdout",
     "output_type": "stream",
     "text": [
      "Error loading image: C:/Users/Lenovo/Videos/Project/RECIPE GENERATOR/Jupyter/main_dataset\\CHILLI\\.DS_Store\n"
     ]
    },
    {
     "name": "stderr",
     "output_type": "stream",
     "text": [
      "CHILLI:  36%|███▌      | 131/369 [00:03<00:06, 38.87it/s]\n",
      "CHILLI:   2%|▏         | 5/238 [00:00<00:05, 43.43it/s]"
     ]
    },
    {
     "name": "stdout",
     "output_type": "stream",
     "text": [
      "Error loading image: C:/Users/Lenovo/Videos/Project/RECIPE GENERATOR/Jupyter/main_dataset\\CHILLI\\.DS_Store\n"
     ]
    },
    {
     "name": "stderr",
     "output_type": "stream",
     "text": [
      "CHILLI:  55%|█████▌    | 131/238 [00:03<00:02, 36.86it/s]\n",
      "CHILLI:   4%|▎         | 4/107 [00:00<00:02, 36.05it/s]"
     ]
    },
    {
     "name": "stdout",
     "output_type": "stream",
     "text": [
      "Error loading image: C:/Users/Lenovo/Videos/Project/RECIPE GENERATOR/Jupyter/main_dataset\\CHILLI\\.DS_Store\n"
     ]
    },
    {
     "name": "stderr",
     "output_type": "stream",
     "text": [
      "CHILLI: 100%|██████████| 107/107 [00:03<00:00, 35.48it/s]\n",
      "CORN:   0%|          | 2/500 [00:00<00:26, 18.91it/s]"
     ]
    },
    {
     "name": "stdout",
     "output_type": "stream",
     "text": [
      "Error loading image: C:/Users/Lenovo/Videos/Project/RECIPE GENERATOR/Jupyter/main_dataset\\CORN\\.DS_Store\n"
     ]
    },
    {
     "name": "stderr",
     "output_type": "stream",
     "text": [
      "CORN:  17%|█▋        | 86/500 [00:06<00:31, 13.08it/s]\n",
      "CORN:   1%|          | 3/414 [00:00<00:20, 20.08it/s]"
     ]
    },
    {
     "name": "stdout",
     "output_type": "stream",
     "text": [
      "Error loading image: C:/Users/Lenovo/Videos/Project/RECIPE GENERATOR/Jupyter/main_dataset\\CORN\\.DS_Store\n"
     ]
    },
    {
     "name": "stderr",
     "output_type": "stream",
     "text": [
      "CORN:  21%|██        | 86/414 [00:06<00:24, 13.54it/s]\n",
      "CORN:   1%|          | 3/328 [00:00<00:15, 20.32it/s]"
     ]
    },
    {
     "name": "stdout",
     "output_type": "stream",
     "text": [
      "Error loading image: C:/Users/Lenovo/Videos/Project/RECIPE GENERATOR/Jupyter/main_dataset\\CORN\\.DS_Store\n"
     ]
    },
    {
     "name": "stderr",
     "output_type": "stream",
     "text": [
      "CORN:  26%|██▌       | 86/328 [00:06<00:18, 13.16it/s]\n",
      "CORN:   1%|          | 3/242 [00:00<00:10, 22.82it/s]"
     ]
    },
    {
     "name": "stdout",
     "output_type": "stream",
     "text": [
      "Error loading image: C:/Users/Lenovo/Videos/Project/RECIPE GENERATOR/Jupyter/main_dataset\\CORN\\.DS_Store\n"
     ]
    },
    {
     "name": "stderr",
     "output_type": "stream",
     "text": [
      "CORN:  36%|███▌      | 86/242 [00:06<00:11, 13.95it/s]\n",
      "CORN:   2%|▏         | 3/156 [00:00<00:06, 24.26it/s]"
     ]
    },
    {
     "name": "stdout",
     "output_type": "stream",
     "text": [
      "Error loading image: C:/Users/Lenovo/Videos/Project/RECIPE GENERATOR/Jupyter/main_dataset\\CORN\\.DS_Store\n"
     ]
    },
    {
     "name": "stderr",
     "output_type": "stream",
     "text": [
      "CORN:  55%|█████▌    | 86/156 [00:06<00:05, 13.80it/s]\n",
      "CORN:   4%|▍         | 3/70 [00:00<00:02, 23.87it/s]"
     ]
    },
    {
     "name": "stdout",
     "output_type": "stream",
     "text": [
      "Error loading image: C:/Users/Lenovo/Videos/Project/RECIPE GENERATOR/Jupyter/main_dataset\\CORN\\.DS_Store\n"
     ]
    },
    {
     "name": "stderr",
     "output_type": "stream",
     "text": [
      "CORN: 100%|██████████| 70/70 [00:04<00:00, 15.10it/s]\n",
      "CUCUMBER:   1%|          | 6/500 [00:00<00:10, 49.29it/s]"
     ]
    },
    {
     "name": "stdout",
     "output_type": "stream",
     "text": [
      "Error loading image: C:/Users/Lenovo/Videos/Project/RECIPE GENERATOR/Jupyter/main_dataset\\CUCUMBER\\.DS_Store\n"
     ]
    },
    {
     "name": "stderr",
     "output_type": "stream",
     "text": [
      "CUCUMBER:  90%|████████▉ | 449/500 [00:22<00:02, 19.75it/s]\n",
      "CUCUMBER:  12%|█▏        | 6/51 [00:00<00:00, 53.49it/s]"
     ]
    },
    {
     "name": "stdout",
     "output_type": "stream",
     "text": [
      "Error loading image: C:/Users/Lenovo/Videos/Project/RECIPE GENERATOR/Jupyter/main_dataset\\CUCUMBER\\.DS_Store\n"
     ]
    },
    {
     "name": "stderr",
     "output_type": "stream",
     "text": [
      "CUCUMBER: 100%|██████████| 51/51 [00:01<00:00, 26.43it/s]\n",
      "EGG:   1%|          | 5/500 [00:00<00:10, 48.31it/s]"
     ]
    },
    {
     "name": "stdout",
     "output_type": "stream",
     "text": [
      "Error loading image: C:/Users/Lenovo/Videos/Project/RECIPE GENERATOR/Jupyter/main_dataset\\EGG\\.DS_Store\n"
     ]
    },
    {
     "name": "stderr",
     "output_type": "stream",
     "text": [
      "EGG:   3%|▎         | 16/500 [00:00<00:11, 40.68it/s]"
     ]
    },
    {
     "name": "stdout",
     "output_type": "stream",
     "text": [
      "Error loading image: C:/Users/Lenovo/Videos/Project/RECIPE GENERATOR/Jupyter/main_dataset\\EGG\\109.jpg\n"
     ]
    },
    {
     "name": "stderr",
     "output_type": "stream",
     "text": [
      "EGG:  82%|████████▏ | 409/500 [00:11<00:02, 35.68it/s]\n",
      "EGG:   7%|▋         | 6/91 [00:00<00:01, 48.19it/s]"
     ]
    },
    {
     "name": "stdout",
     "output_type": "stream",
     "text": [
      "Error loading image: C:/Users/Lenovo/Videos/Project/RECIPE GENERATOR/Jupyter/main_dataset\\EGG\\.DS_Store\n"
     ]
    },
    {
     "name": "stderr",
     "output_type": "stream",
     "text": [
      "EGG:  18%|█▊        | 16/91 [00:00<00:01, 39.48it/s]"
     ]
    },
    {
     "name": "stdout",
     "output_type": "stream",
     "text": [
      "Error loading image: C:/Users/Lenovo/Videos/Project/RECIPE GENERATOR/Jupyter/main_dataset\\EGG\\109.jpg\n"
     ]
    },
    {
     "name": "stderr",
     "output_type": "stream",
     "text": [
      "EGG: 100%|██████████| 91/91 [00:03<00:00, 29.41it/s]\n",
      "EGGPLANT:  17%|█▋        | 84/500 [00:05<00:28, 14.78it/s]\n",
      "EGGPLANT:  20%|██        | 84/416 [00:05<00:21, 15.35it/s]\n",
      "EGGPLANT:  25%|██▌       | 84/332 [00:05<00:16, 15.04it/s]\n",
      "EGGPLANT:  34%|███▍      | 84/248 [00:05<00:10, 15.03it/s]\n",
      "EGGPLANT:  51%|█████     | 84/164 [00:05<00:05, 15.30it/s]\n",
      "EGGPLANT: 100%|██████████| 80/80 [00:05<00:00, 14.87it/s]\n",
      "GARLIC:   1%|          | 6/500 [00:00<00:09, 51.42it/s]"
     ]
    },
    {
     "name": "stdout",
     "output_type": "stream",
     "text": [
      "Error loading image: C:/Users/Lenovo/Videos/Project/RECIPE GENERATOR/Jupyter/main_dataset\\GARLIC\\.DS_Store\n"
     ]
    },
    {
     "name": "stderr",
     "output_type": "stream",
     "text": [
      "GARLIC:  96%|█████████▌| 479/500 [00:16<00:00, 28.66it/s]\n",
      "GARLIC:  33%|███▎      | 7/21 [00:00<00:00, 62.62it/s]"
     ]
    },
    {
     "name": "stdout",
     "output_type": "stream",
     "text": [
      "Error loading image: C:/Users/Lenovo/Videos/Project/RECIPE GENERATOR/Jupyter/main_dataset\\GARLIC\\.DS_Store\n"
     ]
    },
    {
     "name": "stderr",
     "output_type": "stream",
     "text": [
      "GARLIC: 100%|██████████| 21/21 [00:00<00:00, 48.40it/s]\n",
      "GINGER:   0%|          | 0/500 [00:00<?, ?it/s]"
     ]
    },
    {
     "name": "stdout",
     "output_type": "stream",
     "text": [
      "Error loading image: C:/Users/Lenovo/Videos/Project/RECIPE GENERATOR/Jupyter/main_dataset\\GINGER\\.DS_Store\n"
     ]
    },
    {
     "name": "stderr",
     "output_type": "stream",
     "text": [
      "GINGER:  13%|█▎        | 67/500 [00:03<00:25, 17.02it/s]\n",
      "GINGER:   0%|          | 0/433 [00:00<?, ?it/s]"
     ]
    },
    {
     "name": "stdout",
     "output_type": "stream",
     "text": [
      "Error loading image: C:/Users/Lenovo/Videos/Project/RECIPE GENERATOR/Jupyter/main_dataset\\GINGER\\.DS_Store\n"
     ]
    },
    {
     "name": "stderr",
     "output_type": "stream",
     "text": [
      "GINGER:  15%|█▌        | 67/433 [00:03<00:20, 17.72it/s]\n",
      "GINGER:   0%|          | 0/366 [00:00<?, ?it/s]"
     ]
    },
    {
     "name": "stdout",
     "output_type": "stream",
     "text": [
      "Error loading image: C:/Users/Lenovo/Videos/Project/RECIPE GENERATOR/Jupyter/main_dataset\\GINGER\\.DS_Store\n"
     ]
    },
    {
     "name": "stderr",
     "output_type": "stream",
     "text": [
      "GINGER:  18%|█▊        | 67/366 [00:03<00:17, 17.13it/s]\n",
      "GINGER:   1%|          | 3/299 [00:00<00:18, 15.71it/s]"
     ]
    },
    {
     "name": "stdout",
     "output_type": "stream",
     "text": [
      "Error loading image: C:/Users/Lenovo/Videos/Project/RECIPE GENERATOR/Jupyter/main_dataset\\GINGER\\.DS_Store\n"
     ]
    },
    {
     "name": "stderr",
     "output_type": "stream",
     "text": [
      "GINGER:  22%|██▏       | 67/299 [00:03<00:13, 17.81it/s]\n",
      "GINGER:   1%|▏         | 3/232 [00:00<00:14, 15.74it/s]"
     ]
    },
    {
     "name": "stdout",
     "output_type": "stream",
     "text": [
      "Error loading image: C:/Users/Lenovo/Videos/Project/RECIPE GENERATOR/Jupyter/main_dataset\\GINGER\\.DS_Store\n"
     ]
    },
    {
     "name": "stderr",
     "output_type": "stream",
     "text": [
      "GINGER:  29%|██▉       | 67/232 [00:03<00:09, 17.99it/s]\n",
      "GINGER:   2%|▏         | 3/165 [00:00<00:10, 15.14it/s]"
     ]
    },
    {
     "name": "stdout",
     "output_type": "stream",
     "text": [
      "Error loading image: C:/Users/Lenovo/Videos/Project/RECIPE GENERATOR/Jupyter/main_dataset\\GINGER\\.DS_Store\n"
     ]
    },
    {
     "name": "stderr",
     "output_type": "stream",
     "text": [
      "GINGER:  41%|████      | 67/165 [00:03<00:05, 17.71it/s]\n",
      "GINGER:   3%|▎         | 3/98 [00:00<00:06, 15.62it/s]"
     ]
    },
    {
     "name": "stdout",
     "output_type": "stream",
     "text": [
      "Error loading image: C:/Users/Lenovo/Videos/Project/RECIPE GENERATOR/Jupyter/main_dataset\\GINGER\\.DS_Store\n"
     ]
    },
    {
     "name": "stderr",
     "output_type": "stream",
     "text": [
      "GINGER:  68%|██████▊   | 67/98 [00:03<00:01, 17.74it/s]\n",
      "GINGER:   0%|          | 0/31 [00:00<?, ?it/s]"
     ]
    },
    {
     "name": "stdout",
     "output_type": "stream",
     "text": [
      "Error loading image: C:/Users/Lenovo/Videos/Project/RECIPE GENERATOR/Jupyter/main_dataset\\GINGER\\.DS_Store\n"
     ]
    },
    {
     "name": "stderr",
     "output_type": "stream",
     "text": [
      "GINGER: 100%|██████████| 31/31 [00:01<00:00, 17.03it/s]\n",
      "LEMON:   0%|          | 0/500 [00:00<?, ?it/s]"
     ]
    },
    {
     "name": "stdout",
     "output_type": "stream",
     "text": [
      "Error loading image: C:/Users/Lenovo/Videos/Project/RECIPE GENERATOR/Jupyter/main_dataset\\LEMON\\.DS_Store\n"
     ]
    },
    {
     "name": "stderr",
     "output_type": "stream",
     "text": [
      "LEMON:  16%|█▌        | 80/500 [00:06<00:31, 13.25it/s]\n",
      "LEMON:   0%|          | 0/420 [00:00<?, ?it/s]"
     ]
    },
    {
     "name": "stdout",
     "output_type": "stream",
     "text": [
      "Error loading image: C:/Users/Lenovo/Videos/Project/RECIPE GENERATOR/Jupyter/main_dataset\\LEMON\\.DS_Store\n"
     ]
    },
    {
     "name": "stderr",
     "output_type": "stream",
     "text": [
      "LEMON:  19%|█▉        | 80/420 [00:06<00:26, 13.02it/s]\n",
      "LEMON:   0%|          | 0/340 [00:00<?, ?it/s]"
     ]
    },
    {
     "name": "stdout",
     "output_type": "stream",
     "text": [
      "Error loading image: C:/Users/Lenovo/Videos/Project/RECIPE GENERATOR/Jupyter/main_dataset\\LEMON\\.DS_Store\n"
     ]
    },
    {
     "name": "stderr",
     "output_type": "stream",
     "text": [
      "LEMON:  24%|██▎       | 80/340 [00:06<00:19, 13.10it/s]\n",
      "LEMON:   0%|          | 0/260 [00:00<?, ?it/s]"
     ]
    },
    {
     "name": "stdout",
     "output_type": "stream",
     "text": [
      "Error loading image: C:/Users/Lenovo/Videos/Project/RECIPE GENERATOR/Jupyter/main_dataset\\LEMON\\.DS_Store\n"
     ]
    },
    {
     "name": "stderr",
     "output_type": "stream",
     "text": [
      "LEMON:  31%|███       | 80/260 [00:06<00:14, 12.52it/s]\n",
      "LEMON:   0%|          | 0/180 [00:00<?, ?it/s]"
     ]
    },
    {
     "name": "stdout",
     "output_type": "stream",
     "text": [
      "Error loading image: C:/Users/Lenovo/Videos/Project/RECIPE GENERATOR/Jupyter/main_dataset\\LEMON\\.DS_Store\n"
     ]
    },
    {
     "name": "stderr",
     "output_type": "stream",
     "text": [
      "LEMON:  44%|████▍     | 80/180 [00:06<00:07, 13.17it/s]\n",
      "LEMON:   0%|          | 0/100 [00:00<?, ?it/s]"
     ]
    },
    {
     "name": "stdout",
     "output_type": "stream",
     "text": [
      "Error loading image: C:/Users/Lenovo/Videos/Project/RECIPE GENERATOR/Jupyter/main_dataset\\LEMON\\.DS_Store\n"
     ]
    },
    {
     "name": "stderr",
     "output_type": "stream",
     "text": [
      "LEMON:  80%|████████  | 80/100 [00:06<00:01, 13.20it/s]\n",
      "LEMON:   0%|          | 0/20 [00:00<?, ?it/s]"
     ]
    },
    {
     "name": "stdout",
     "output_type": "stream",
     "text": [
      "Error loading image: C:/Users/Lenovo/Videos/Project/RECIPE GENERATOR/Jupyter/main_dataset\\LEMON\\.DS_Store\n"
     ]
    },
    {
     "name": "stderr",
     "output_type": "stream",
     "text": [
      "LEMON: 100%|██████████| 20/20 [00:01<00:00, 10.68it/s]\n",
      "LETTUCE:   1%|          | 3/500 [00:00<00:22, 22.11it/s]"
     ]
    },
    {
     "name": "stdout",
     "output_type": "stream",
     "text": [
      "Error loading image: C:/Users/Lenovo/Videos/Project/RECIPE GENERATOR/Jupyter/main_dataset\\LETTUCE\\.DS_Store\n"
     ]
    },
    {
     "name": "stderr",
     "output_type": "stream",
     "text": [
      "LETTUCE:  19%|█▉        | 94/500 [00:07<00:34, 11.94it/s]\n",
      "LETTUCE:   1%|          | 3/406 [00:00<00:18, 21.36it/s]"
     ]
    },
    {
     "name": "stdout",
     "output_type": "stream",
     "text": [
      "Error loading image: C:/Users/Lenovo/Videos/Project/RECIPE GENERATOR/Jupyter/main_dataset\\LETTUCE\\.DS_Store\n"
     ]
    },
    {
     "name": "stderr",
     "output_type": "stream",
     "text": [
      "LETTUCE:  23%|██▎       | 94/406 [00:08<00:27, 11.44it/s]\n",
      "LETTUCE:   1%|          | 3/312 [00:00<00:16, 18.56it/s]"
     ]
    },
    {
     "name": "stdout",
     "output_type": "stream",
     "text": [
      "Error loading image: C:/Users/Lenovo/Videos/Project/RECIPE GENERATOR/Jupyter/main_dataset\\LETTUCE\\.DS_Store\n"
     ]
    },
    {
     "name": "stderr",
     "output_type": "stream",
     "text": [
      "LETTUCE:  30%|███       | 94/312 [00:08<00:18, 11.48it/s]\n",
      "LETTUCE:   1%|▏         | 3/218 [00:00<00:09, 22.12it/s]"
     ]
    },
    {
     "name": "stdout",
     "output_type": "stream",
     "text": [
      "Error loading image: C:/Users/Lenovo/Videos/Project/RECIPE GENERATOR/Jupyter/main_dataset\\LETTUCE\\.DS_Store\n"
     ]
    },
    {
     "name": "stderr",
     "output_type": "stream",
     "text": [
      "LETTUCE:  43%|████▎     | 94/218 [00:07<00:10, 12.30it/s]\n",
      "LETTUCE:   2%|▏         | 3/124 [00:00<00:05, 22.43it/s]"
     ]
    },
    {
     "name": "stdout",
     "output_type": "stream",
     "text": [
      "Error loading image: C:/Users/Lenovo/Videos/Project/RECIPE GENERATOR/Jupyter/main_dataset\\LETTUCE\\.DS_Store\n"
     ]
    },
    {
     "name": "stderr",
     "output_type": "stream",
     "text": [
      "LETTUCE:  76%|███████▌  | 94/124 [00:07<00:02, 11.94it/s]\n",
      "LETTUCE:  10%|█         | 3/30 [00:00<00:01, 22.82it/s]"
     ]
    },
    {
     "name": "stdout",
     "output_type": "stream",
     "text": [
      "Error loading image: C:/Users/Lenovo/Videos/Project/RECIPE GENERATOR/Jupyter/main_dataset\\LETTUCE\\.DS_Store\n"
     ]
    },
    {
     "name": "stderr",
     "output_type": "stream",
     "text": [
      "LETTUCE: 100%|██████████| 30/30 [00:03<00:00,  9.47it/s]\n",
      "OKRA:   1%|          | 6/500 [00:00<00:09, 53.91it/s]"
     ]
    },
    {
     "name": "stdout",
     "output_type": "stream",
     "text": [
      "Error loading image: C:/Users/Lenovo/Videos/Project/RECIPE GENERATOR/Jupyter/main_dataset\\OKRA\\.DS_Store\n"
     ]
    },
    {
     "name": "stderr",
     "output_type": "stream",
     "text": [
      "OKRA:  43%|████▎     | 216/500 [00:05<00:08, 34.61it/s]"
     ]
    },
    {
     "name": "stdout",
     "output_type": "stream",
     "text": [
      "Error loading image: C:/Users/Lenovo/Videos/Project/RECIPE GENERATOR/Jupyter/main_dataset\\OKRA\\471.gif\n"
     ]
    },
    {
     "name": "stderr",
     "output_type": "stream",
     "text": [
      "OKRA:  50%|█████     | 251/500 [00:06<00:06, 40.51it/s]\n",
      "OKRA:   3%|▎         | 7/249 [00:00<00:04, 57.87it/s]"
     ]
    },
    {
     "name": "stdout",
     "output_type": "stream",
     "text": [
      "Error loading image: C:/Users/Lenovo/Videos/Project/RECIPE GENERATOR/Jupyter/main_dataset\\OKRA\\.DS_Store\n"
     ]
    },
    {
     "name": "stderr",
     "output_type": "stream",
     "text": [
      "OKRA:  87%|████████▋ | 217/249 [00:05<00:00, 42.64it/s]"
     ]
    },
    {
     "name": "stdout",
     "output_type": "stream",
     "text": [
      "Error loading image: C:/Users/Lenovo/Videos/Project/RECIPE GENERATOR/Jupyter/main_dataset\\OKRA\\471.gif\n"
     ]
    },
    {
     "name": "stderr",
     "output_type": "stream",
     "text": [
      "OKRA: 100%|██████████| 249/249 [00:05<00:00, 42.03it/s]\n",
      "ONION:   1%|          | 6/500 [00:00<00:09, 51.68it/s]"
     ]
    },
    {
     "name": "stdout",
     "output_type": "stream",
     "text": [
      "Error loading image: C:/Users/Lenovo/Videos/Project/RECIPE GENERATOR/Jupyter/main_dataset\\ONION\\.DS_Store\n"
     ]
    },
    {
     "name": "stderr",
     "output_type": "stream",
     "text": [
      "ONION:  46%|████▌     | 229/500 [00:09<00:04, 54.37it/s]"
     ]
    },
    {
     "name": "stdout",
     "output_type": "stream",
     "text": [
      "Error loading image: C:/Users/Lenovo/Videos/Project/RECIPE GENERATOR/Jupyter/main_dataset\\ONION\\41.gif\n"
     ]
    },
    {
     "name": "stderr",
     "output_type": "stream",
     "text": [
      "ONION:  68%|██████▊   | 342/500 [00:12<00:05, 26.96it/s]\n",
      "ONION:   4%|▍         | 6/158 [00:00<00:03, 50.44it/s]"
     ]
    },
    {
     "name": "stdout",
     "output_type": "stream",
     "text": [
      "Error loading image: C:/Users/Lenovo/Videos/Project/RECIPE GENERATOR/Jupyter/main_dataset\\ONION\\.DS_Store\n"
     ]
    },
    {
     "name": "stderr",
     "output_type": "stream",
     "text": [
      "ONION: 100%|██████████| 158/158 [00:08<00:00, 18.80it/s]\n",
      "PEAS:  20%|██        | 100/500 [00:07<00:30, 12.91it/s]\n",
      "PEAS:  25%|██▌       | 100/400 [00:07<00:22, 13.15it/s]\n",
      "PEAS:  33%|███▎      | 100/300 [00:07<00:14, 13.54it/s]\n",
      "PEAS:  50%|█████     | 100/200 [00:07<00:07, 13.34it/s]\n",
      "PEAS: 100%|██████████| 100/100 [00:07<00:00, 13.47it/s]\n",
      "POTATO:   1%|          | 5/500 [00:00<00:12, 40.60it/s]"
     ]
    },
    {
     "name": "stdout",
     "output_type": "stream",
     "text": [
      "Error loading image: C:/Users/Lenovo/Videos/Project/RECIPE GENERATOR/Jupyter/main_dataset\\POTATO\\.DS_Store\n"
     ]
    },
    {
     "name": "stderr",
     "output_type": "stream",
     "text": [
      "POTATO:  15%|█▌        | 76/500 [00:03<00:19, 21.59it/s]\n",
      "POTATO:   1%|          | 5/424 [00:00<00:09, 43.57it/s]"
     ]
    },
    {
     "name": "stdout",
     "output_type": "stream",
     "text": [
      "Error loading image: C:/Users/Lenovo/Videos/Project/RECIPE GENERATOR/Jupyter/main_dataset\\POTATO\\.DS_Store\n"
     ]
    },
    {
     "name": "stderr",
     "output_type": "stream",
     "text": [
      "POTATO:  18%|█▊        | 76/424 [00:03<00:16, 21.49it/s]\n",
      "POTATO:   1%|▏         | 5/348 [00:00<00:08, 39.67it/s]"
     ]
    },
    {
     "name": "stdout",
     "output_type": "stream",
     "text": [
      "Error loading image: C:/Users/Lenovo/Videos/Project/RECIPE GENERATOR/Jupyter/main_dataset\\POTATO\\.DS_Store\n"
     ]
    },
    {
     "name": "stderr",
     "output_type": "stream",
     "text": [
      "POTATO:  22%|██▏       | 76/348 [00:03<00:12, 21.02it/s]\n",
      "POTATO:   1%|▏         | 4/272 [00:00<00:07, 37.39it/s]"
     ]
    },
    {
     "name": "stdout",
     "output_type": "stream",
     "text": [
      "Error loading image: C:/Users/Lenovo/Videos/Project/RECIPE GENERATOR/Jupyter/main_dataset\\POTATO\\.DS_Store\n"
     ]
    },
    {
     "name": "stderr",
     "output_type": "stream",
     "text": [
      "POTATO:  28%|██▊       | 76/272 [00:03<00:09, 20.87it/s]\n",
      "POTATO:   3%|▎         | 5/196 [00:00<00:04, 45.31it/s]"
     ]
    },
    {
     "name": "stdout",
     "output_type": "stream",
     "text": [
      "Error loading image: C:/Users/Lenovo/Videos/Project/RECIPE GENERATOR/Jupyter/main_dataset\\POTATO\\.DS_Store\n"
     ]
    },
    {
     "name": "stderr",
     "output_type": "stream",
     "text": [
      "POTATO:  39%|███▉      | 76/196 [00:03<00:05, 21.88it/s]\n",
      "POTATO:   4%|▍         | 5/120 [00:00<00:02, 46.48it/s]"
     ]
    },
    {
     "name": "stdout",
     "output_type": "stream",
     "text": [
      "Error loading image: C:/Users/Lenovo/Videos/Project/RECIPE GENERATOR/Jupyter/main_dataset\\POTATO\\.DS_Store\n"
     ]
    },
    {
     "name": "stderr",
     "output_type": "stream",
     "text": [
      "POTATO:  63%|██████▎   | 76/120 [00:03<00:02, 20.90it/s]\n",
      "POTATO:  11%|█▏        | 5/44 [00:00<00:01, 38.91it/s]"
     ]
    },
    {
     "name": "stdout",
     "output_type": "stream",
     "text": [
      "Error loading image: C:/Users/Lenovo/Videos/Project/RECIPE GENERATOR/Jupyter/main_dataset\\POTATO\\.DS_Store\n"
     ]
    },
    {
     "name": "stderr",
     "output_type": "stream",
     "text": [
      "POTATO: 100%|██████████| 44/44 [00:01<00:00, 22.11it/s]\n",
      "PUMPKIN:   2%|▏         | 8/500 [00:00<00:06, 70.62it/s]"
     ]
    },
    {
     "name": "stdout",
     "output_type": "stream",
     "text": [
      "Error loading image: C:/Users/Lenovo/Videos/Project/RECIPE GENERATOR/Jupyter/main_dataset\\PUMPKIN\\.DS_Store\n"
     ]
    },
    {
     "name": "stderr",
     "output_type": "stream",
     "text": [
      "PUMPKIN:  93%|█████████▎| 466/500 [00:09<00:00, 49.18it/s]\n",
      "PUMPKIN:  18%|█▊        | 6/34 [00:00<00:00, 56.28it/s]"
     ]
    },
    {
     "name": "stdout",
     "output_type": "stream",
     "text": [
      "Error loading image: C:/Users/Lenovo/Videos/Project/RECIPE GENERATOR/Jupyter/main_dataset\\PUMPKIN\\.DS_Store\n"
     ]
    },
    {
     "name": "stderr",
     "output_type": "stream",
     "text": [
      "PUMPKIN: 100%|██████████| 34/34 [00:00<00:00, 49.25it/s]\n",
      "RADDISH:   6%|▌         | 30/500 [00:00<00:15, 30.35it/s]\n",
      "RADDISH:   6%|▋         | 30/470 [00:01<00:15, 29.03it/s]\n",
      "RADDISH:   7%|▋         | 30/440 [00:00<00:12, 32.02it/s]\n",
      "RADDISH:   7%|▋         | 30/410 [00:00<00:11, 32.31it/s]\n",
      "RADDISH:   8%|▊         | 30/380 [00:00<00:10, 32.64it/s]\n",
      "RADDISH:   9%|▊         | 30/350 [00:00<00:09, 33.54it/s]\n",
      "RADDISH:   9%|▉         | 30/320 [00:00<00:08, 34.17it/s]\n",
      "RADDISH:  10%|█         | 30/290 [00:00<00:07, 33.52it/s]\n",
      "RADDISH:  12%|█▏        | 30/260 [00:00<00:06, 33.58it/s]\n",
      "RADDISH:  13%|█▎        | 30/230 [00:00<00:05, 35.67it/s]\n",
      "RADDISH:  15%|█▌        | 30/200 [00:00<00:04, 35.62it/s]\n",
      "RADDISH:  18%|█▊        | 30/170 [00:00<00:04, 32.92it/s]\n",
      "RADDISH:  21%|██▏       | 30/140 [00:00<00:03, 33.01it/s]\n",
      "RADDISH:  27%|██▋       | 30/110 [00:00<00:02, 31.85it/s]\n",
      "RADDISH:  38%|███▊      | 30/80 [00:00<00:01, 31.11it/s]\n",
      "RADDISH:  60%|██████    | 30/50 [00:00<00:00, 33.73it/s]\n",
      "RADDISH: 100%|██████████| 20/20 [00:00<00:00, 35.57it/s]\n",
      "SPINACH:   0%|          | 2/500 [00:00<00:26, 18.61it/s]"
     ]
    },
    {
     "name": "stdout",
     "output_type": "stream",
     "text": [
      "Error loading image: C:/Users/Lenovo/Videos/Project/RECIPE GENERATOR/Jupyter/main_dataset\\SPINACH\\.DS_Store\n"
     ]
    },
    {
     "name": "stderr",
     "output_type": "stream",
     "text": [
      "SPINACH:  19%|█▉        | 97/500 [00:06<00:27, 14.83it/s]\n",
      "SPINACH:   1%|          | 3/403 [00:00<00:17, 22.61it/s]"
     ]
    },
    {
     "name": "stdout",
     "output_type": "stream",
     "text": [
      "Error loading image: C:/Users/Lenovo/Videos/Project/RECIPE GENERATOR/Jupyter/main_dataset\\SPINACH\\.DS_Store\n"
     ]
    },
    {
     "name": "stderr",
     "output_type": "stream",
     "text": [
      "SPINACH:  24%|██▍       | 97/403 [00:06<00:20, 14.94it/s]\n",
      "SPINACH:   1%|          | 3/306 [00:00<00:12, 24.12it/s]"
     ]
    },
    {
     "name": "stdout",
     "output_type": "stream",
     "text": [
      "Error loading image: C:/Users/Lenovo/Videos/Project/RECIPE GENERATOR/Jupyter/main_dataset\\SPINACH\\.DS_Store\n"
     ]
    },
    {
     "name": "stderr",
     "output_type": "stream",
     "text": [
      "SPINACH:  32%|███▏      | 97/306 [00:06<00:13, 15.95it/s]\n",
      "SPINACH:   1%|▏         | 3/209 [00:00<00:08, 24.64it/s]"
     ]
    },
    {
     "name": "stdout",
     "output_type": "stream",
     "text": [
      "Error loading image: C:/Users/Lenovo/Videos/Project/RECIPE GENERATOR/Jupyter/main_dataset\\SPINACH\\.DS_Store\n"
     ]
    },
    {
     "name": "stderr",
     "output_type": "stream",
     "text": [
      "SPINACH:  46%|████▋     | 97/209 [00:06<00:07, 15.30it/s]\n",
      "SPINACH:   2%|▏         | 2/112 [00:00<00:05, 19.41it/s]"
     ]
    },
    {
     "name": "stdout",
     "output_type": "stream",
     "text": [
      "Error loading image: C:/Users/Lenovo/Videos/Project/RECIPE GENERATOR/Jupyter/main_dataset\\SPINACH\\.DS_Store\n"
     ]
    },
    {
     "name": "stderr",
     "output_type": "stream",
     "text": [
      "SPINACH:  87%|████████▋ | 97/112 [00:06<00:00, 15.40it/s]\n",
      "SPINACH:  13%|█▎        | 2/15 [00:00<00:00, 19.61it/s]"
     ]
    },
    {
     "name": "stdout",
     "output_type": "stream",
     "text": [
      "Error loading image: C:/Users/Lenovo/Videos/Project/RECIPE GENERATOR/Jupyter/main_dataset\\SPINACH\\.DS_Store\n"
     ]
    },
    {
     "name": "stderr",
     "output_type": "stream",
     "text": [
      "SPINACH: 100%|██████████| 15/15 [00:01<00:00, 10.54it/s]\n",
      "TOMATO:   1%|          | 3/500 [00:00<00:18, 26.89it/s]"
     ]
    },
    {
     "name": "stdout",
     "output_type": "stream",
     "text": [
      "Error loading image: C:/Users/Lenovo/Videos/Project/RECIPE GENERATOR/Jupyter/main_dataset\\TOMATO\\.DS_Store\n"
     ]
    },
    {
     "name": "stderr",
     "output_type": "stream",
     "text": [
      "TOMATO:  18%|█▊        | 90/500 [00:05<00:24, 16.60it/s]\n",
      "TOMATO:   1%|          | 3/410 [00:00<00:14, 27.68it/s]"
     ]
    },
    {
     "name": "stdout",
     "output_type": "stream",
     "text": [
      "Error loading image: C:/Users/Lenovo/Videos/Project/RECIPE GENERATOR/Jupyter/main_dataset\\TOMATO\\.DS_Store\n"
     ]
    },
    {
     "name": "stderr",
     "output_type": "stream",
     "text": [
      "TOMATO:  22%|██▏       | 90/410 [00:05<00:18, 16.98it/s]\n",
      "TOMATO:   1%|          | 3/320 [00:00<00:12, 25.87it/s]"
     ]
    },
    {
     "name": "stdout",
     "output_type": "stream",
     "text": [
      "Error loading image: C:/Users/Lenovo/Videos/Project/RECIPE GENERATOR/Jupyter/main_dataset\\TOMATO\\.DS_Store\n"
     ]
    },
    {
     "name": "stderr",
     "output_type": "stream",
     "text": [
      "TOMATO:  28%|██▊       | 90/320 [00:05<00:13, 16.91it/s]\n",
      "TOMATO:   1%|▏         | 3/230 [00:00<00:07, 29.71it/s]"
     ]
    },
    {
     "name": "stdout",
     "output_type": "stream",
     "text": [
      "Error loading image: C:/Users/Lenovo/Videos/Project/RECIPE GENERATOR/Jupyter/main_dataset\\TOMATO\\.DS_Store\n"
     ]
    },
    {
     "name": "stderr",
     "output_type": "stream",
     "text": [
      "TOMATO:  39%|███▉      | 90/230 [00:05<00:08, 16.92it/s]\n",
      "TOMATO:   2%|▏         | 3/140 [00:00<00:04, 27.94it/s]"
     ]
    },
    {
     "name": "stdout",
     "output_type": "stream",
     "text": [
      "Error loading image: C:/Users/Lenovo/Videos/Project/RECIPE GENERATOR/Jupyter/main_dataset\\TOMATO\\.DS_Store\n"
     ]
    },
    {
     "name": "stderr",
     "output_type": "stream",
     "text": [
      "TOMATO:  64%|██████▍   | 90/140 [00:05<00:03, 16.40it/s]\n",
      "TOMATO:   6%|▌         | 3/50 [00:00<00:01, 25.37it/s]"
     ]
    },
    {
     "name": "stdout",
     "output_type": "stream",
     "text": [
      "Error loading image: C:/Users/Lenovo/Videos/Project/RECIPE GENERATOR/Jupyter/main_dataset\\TOMATO\\.DS_Store\n"
     ]
    },
    {
     "name": "stderr",
     "output_type": "stream",
     "text": [
      "TOMATO: 100%|██████████| 50/50 [00:03<00:00, 15.94it/s]\n",
      "TURNIP:  20%|█▉        | 98/500 [00:05<00:20, 19.37it/s]\n",
      "TURNIP:  24%|██▍       | 98/402 [00:04<00:15, 20.19it/s]\n",
      "TURNIP:  32%|███▏      | 98/304 [00:04<00:10, 19.80it/s]\n",
      "TURNIP:  48%|████▊     | 98/206 [00:04<00:05, 20.33it/s]\n",
      "TURNIP:  91%|█████████ | 98/108 [00:04<00:00, 21.78it/s]\n",
      "TURNIP: 100%|██████████| 10/10 [00:00<00:00, 15.34it/s]"
     ]
    },
    {
     "name": "stdout",
     "output_type": "stream",
     "text": [
      "Image refinement and data augmentation complete.\n"
     ]
    },
    {
     "name": "stderr",
     "output_type": "stream",
     "text": [
      "\n"
     ]
    }
   ],
   "source": [
    "# Define the desired number of images per category\n",
    "desired_images_per_category = 500\n",
    "\n",
    "# Loop through the categories and process images\n",
    "for category in categories:\n",
    "    category_dir = os.path.join(input_dir, category)\n",
    "    output_category_dir = os.path.join(output_dir, category)\n",
    "    \n",
    "    # Create the output directory if it doesn't exist\n",
    "    os.makedirs(output_category_dir, exist_ok=True)\n",
    "    \n",
    "    # Get the current image count in the output directory\n",
    "    current_images_count = len(os.listdir(output_category_dir))\n",
    "    \n",
    "    # Continue augmenting until we reach the desired number of images\n",
    "    while current_images_count < desired_images_per_category:\n",
    "        # Use tqdm to display progress\n",
    "        with tqdm(total=desired_images_per_category - current_images_count, desc=category) as pbar:\n",
    "            # Loop through the images in the category directory\n",
    "            for image_name in os.listdir(category_dir):\n",
    "                image_path = os.path.join(category_dir, image_name)\n",
    "                \n",
    "                # Augment and save the image with a unique name\n",
    "                augment_and_save_image(image_path, category, output_category_dir, current_images_count)\n",
    "                pbar.update(1)\n",
    "                current_images_count += 1\n",
    "                \n",
    "                # Check if the desired count is reached and break the loop\n",
    "                if current_images_count >= desired_images_per_category:\n",
    "                    break\n",
    "\n",
    "print(\"Image refinement and data augmentation complete.\")"
   ]
  },
  {
   "cell_type": "markdown",
   "id": "66c1e353",
   "metadata": {},
   "source": [
    "## Splitting Dataset"
   ]
  },
  {
   "cell_type": "code",
   "execution_count": 6,
   "id": "7c1f266d",
   "metadata": {},
   "outputs": [],
   "source": [
    "# Importing required Libraries\n",
    "\n",
    "import os\n",
    "from sklearn.model_selection import train_test_split\n",
    "from tqdm import tqdm\n",
    "import shutil"
   ]
  },
  {
   "cell_type": "code",
   "execution_count": 7,
   "id": "908db617",
   "metadata": {},
   "outputs": [],
   "source": [
    "# Define the path to refined dataset root directory (containing categorical image folders)\n",
    "dataset_root = 'C:/Users/Lenovo/Videos/Project/RECIPE GENERATOR/Jupyter/refined_dataset' \n",
    "\n",
    "# Define the directory where split dataset will be saved\n",
    "split_dataset_root = 'C:/Users/Lenovo/Videos/Project/RECIPE GENERATOR/Jupyter/split_refined_data'"
   ]
  },
  {
   "cell_type": "code",
   "execution_count": 8,
   "id": "625d261e",
   "metadata": {},
   "outputs": [],
   "source": [
    "# Define the ratios for training, testing, and validation (e.g., 80% for training, 15% for testing, 15% for validation)\n",
    "train_ratio = 0.8\n",
    "test_ratio = 0.1\n",
    "valid_ratio = 0.1\n",
    "\n",
    "# List all the category folders in the dataset directory\n",
    "categories = os.listdir(dataset_root)\n",
    "\n",
    "# Create directories for the training, testing, and validation sets\n",
    "train_dir = os.path.join(split_dataset_root, 'train')\n",
    "test_dir = os.path.join(split_dataset_root, 'test')\n",
    "valid_dir = os.path.join(split_dataset_root, 'valid')\n",
    "\n",
    "os.makedirs(train_dir, exist_ok=True)\n",
    "os.makedirs(test_dir, exist_ok=True)\n",
    "os.makedirs(valid_dir, exist_ok=True)"
   ]
  },
  {
   "cell_type": "code",
   "execution_count": 9,
   "id": "73d4d973",
   "metadata": {},
   "outputs": [
    {
     "name": "stderr",
     "output_type": "stream",
     "text": [
      "100%|██████████| 26/26 [01:41<00:00,  3.90s/it]"
     ]
    },
    {
     "name": "stdout",
     "output_type": "stream",
     "text": [
      "Dataset split into training, testing, and validation sets.\n"
     ]
    },
    {
     "name": "stderr",
     "output_type": "stream",
     "text": [
      "\n"
     ]
    }
   ],
   "source": [
    "# Iterate through each category folder and split the images\n",
    "for category_name in tqdm(categories):\n",
    "    category_dir = os.path.join(dataset_root, category_name)\n",
    "    images = os.listdir(category_dir)\n",
    "\n",
    "    # Split the images into training, testing, and validation sets\n",
    "    train_images, temp_images = train_test_split(images, train_size=train_ratio, random_state=42)\n",
    "    test_images, valid_images = train_test_split(temp_images, train_size=test_ratio / (test_ratio + valid_ratio), random_state=42)\n",
    "\n",
    "    # Create directories for the category in the training, testing, and validation sets\n",
    "    train_category_dir = os.path.join(train_dir, category_name)\n",
    "    test_category_dir = os.path.join(test_dir, category_name)\n",
    "    valid_category_dir = os.path.join(valid_dir, category_name)\n",
    "\n",
    "    os.makedirs(train_category_dir, exist_ok=True)\n",
    "    os.makedirs(test_category_dir, exist_ok=True)\n",
    "    os.makedirs(valid_category_dir, exist_ok=True)\n",
    "\n",
    "    # Move the images to the appropriate directories\n",
    "    for image in train_images:\n",
    "        src = os.path.join(category_dir, image)\n",
    "        dst = os.path.join(train_category_dir, image)\n",
    "        shutil.copy(src, dst)\n",
    "\n",
    "    for image in test_images:\n",
    "        src = os.path.join(category_dir, image)\n",
    "        dst = os.path.join(test_category_dir, image)\n",
    "        shutil.copy(src, dst)\n",
    "\n",
    "    for image in valid_images:\n",
    "        src = os.path.join(category_dir, image)\n",
    "        dst = os.path.join(valid_category_dir, image)\n",
    "        shutil.copy(src, dst)\n",
    "\n",
    "print(\"Dataset split into training, testing, and validation sets.\")"
   ]
  },
  {
   "cell_type": "markdown",
   "id": "70e98d48",
   "metadata": {},
   "source": [
    "## Creating CSV file for dataset"
   ]
  },
  {
   "cell_type": "code",
   "execution_count": 13,
   "id": "efb5c5e6",
   "metadata": {},
   "outputs": [],
   "source": [
    "import os\n",
    "import csv\n",
    "from tqdm import tqdm"
   ]
  },
  {
   "cell_type": "code",
   "execution_count": 17,
   "id": "581d59ee",
   "metadata": {},
   "outputs": [],
   "source": [
    "# Define the directory where your dataset is located\n",
    "dataset_dir = 'C:/Users/Lenovo/Downloads/AI Project/main/refined_dataset' \n",
    "\n",
    "# Define the path to save the CSV file\n",
    "csv_file = 'C:/Users/Lenovo/Downloads/AI Project/main/csv file/refined_dataset.csv'\n",
    "\n",
    "# Define categories\n",
    "categories = os.listdir(dataset_dir)\n",
    "\n",
    "# Create or open the CSV file for writing\n",
    "file_exists = os.path.exists(csv_file)"
   ]
  },
  {
   "cell_type": "code",
   "execution_count": 18,
   "id": "bb0b6498",
   "metadata": {},
   "outputs": [
    {
     "name": "stderr",
     "output_type": "stream",
     "text": [
      "  0%|          | 0/26 [00:00<?, ?it/s]\n",
      "100%|██████████| 498/498 [00:00<00:00, 166130.87it/s]\n",
      "\n",
      "100%|██████████| 500/500 [00:00<00:00, 249958.52it/s]\n",
      "\n",
      "100%|██████████| 498/498 [00:00<00:00, 146394.97it/s]\n",
      "\n",
      "100%|██████████| 498/498 [00:00<00:00, 138982.19it/s]\n",
      "\n",
      "100%|██████████| 493/493 [00:00<00:00, 246606.07it/s]\n",
      "\n",
      "100%|██████████| 500/500 [00:00<00:00, 247189.06it/s]\n",
      "\n",
      "100%|██████████| 498/498 [00:00<00:00, 249226.03it/s]\n",
      "\n",
      "100%|██████████| 500/500 [00:00<00:00, 250376.31it/s]\n",
      "\n",
      "100%|██████████| 496/496 [00:00<00:00, 494033.43it/s]\n",
      "\n",
      "100%|██████████| 494/494 [00:00<00:00, 202421.47it/s]\n",
      "\n",
      "100%|██████████| 498/498 [00:00<00:00, 124561.00it/s]\n",
      "\n",
      "100%|██████████| 496/496 [00:00<00:00, 247929.30it/s]\n",
      "\n",
      "100%|██████████| 500/500 [00:00<00:00, 224630.68it/s]\n",
      "\n",
      "100%|██████████| 498/498 [00:00<00:00, 221337.65it/s]\n",
      " 54%|█████▍    | 14/26 [00:00<00:00, 135.18it/s]\n",
      "100%|██████████| 492/492 [00:00<00:00, 245812.69it/s]\n",
      "\n",
      "100%|██████████| 493/493 [00:00<00:00, 123317.74it/s]\n",
      "\n",
      "100%|██████████| 494/494 [00:00<00:00, 245495.99it/s]\n",
      "\n",
      "100%|██████████| 496/496 [00:00<00:00, 241202.87it/s]\n",
      "\n",
      "100%|██████████| 497/497 [00:00<00:00, 183808.23it/s]\n",
      "\n",
      "100%|██████████| 500/500 [00:00<00:00, 250137.40it/s]\n",
      "\n",
      "100%|██████████| 493/493 [00:00<00:00, 246547.26it/s]\n",
      "\n",
      "100%|██████████| 498/498 [00:00<00:00, 247953.87it/s]\n",
      "\n",
      "100%|██████████| 500/500 [00:00<00:00, 249928.73it/s]\n",
      "\n",
      "100%|██████████| 494/494 [00:00<00:00, 196938.14it/s]\n",
      "\n",
      "100%|██████████| 494/494 [00:00<00:00, 157051.93it/s]\n",
      "\n",
      "100%|██████████| 500/500 [00:00<00:00, 223958.99it/s]\n",
      "100%|██████████| 26/26 [00:00<00:00, 138.01it/s]\n"
     ]
    }
   ],
   "source": [
    "with open(csv_file, mode='a', newline='') as csv_file:\n",
    "    fieldnames = ['image_id', 'Category']\n",
    "    writer = csv.DictWriter(csv_file, fieldnames=fieldnames)\n",
    "    \n",
    "    if not file_exists:\n",
    "        writer.writeheader()\n",
    "\n",
    "    for category in tqdm(categories):\n",
    "        category_dir = os.path.join(dataset_dir, category)\n",
    "\n",
    "        if os.path.isdir(category_dir):\n",
    "            image_files = os.listdir(category_dir)\n",
    "\n",
    "            for image_file in tqdm(image_files):\n",
    "                image_id = image_file\n",
    "                category_name = category\n",
    "\n",
    "                # Write the information to the CSV file\n",
    "                writer.writerow({\n",
    "                    'image_id': image_id,\n",
    "                    'Category': category_name\n",
    "                })"
   ]
  },
  {
   "cell_type": "code",
   "execution_count": null,
   "id": "c57ee14f",
   "metadata": {},
   "outputs": [],
   "source": []
  }
 ],
 "metadata": {
  "kernelspec": {
   "display_name": "Python 3 (ipykernel)",
   "language": "python",
   "name": "python3"
  },
  "language_info": {
   "codemirror_mode": {
    "name": "ipython",
    "version": 3
   },
   "file_extension": ".py",
   "mimetype": "text/x-python",
   "name": "python",
   "nbconvert_exporter": "python",
   "pygments_lexer": "ipython3",
   "version": "3.11.7"
  }
 },
 "nbformat": 4,
 "nbformat_minor": 5
}
